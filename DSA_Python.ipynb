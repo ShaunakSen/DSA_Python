{
  "nbformat": 4,
  "nbformat_minor": 0,
  "metadata": {
    "colab": {
      "name": "DSA_Python.ipynb",
      "provenance": [],
      "collapsed_sections": [],
      "include_colab_link": true
    },
    "kernelspec": {
      "name": "python3",
      "display_name": "Python 3"
    }
  },
  "cells": [
    {
      "cell_type": "markdown",
      "metadata": {
        "id": "view-in-github",
        "colab_type": "text"
      },
      "source": [
        "<a href=\"https://colab.research.google.com/github/ShaunakSen/DSA_Python/blob/master/DSA_Python.ipynb\" target=\"_parent\"><img src=\"https://colab.research.google.com/assets/colab-badge.svg\" alt=\"Open In Colab\"/></a>"
      ]
    },
    {
      "cell_type": "markdown",
      "metadata": {
        "id": "2WDykDp6_woV",
        "colab_type": "text"
      },
      "source": [
        "## Data Structures and ALgorithms in Python\n",
        "\n",
        "> [Tutorial by Runestone Academy](https://runestone.academy/runestone/books/published/pythonds/Introduction/GettingStartedwithData.html#built-in-collection-data-types)\n",
        "\n",
        "### Basic Python Storage Collections\n",
        "\n",
        "A major difference between lists and strings is that lists can be modified while strings cannot. This is referred to as mutability. Lists are mutable; strings are immutable. For example, you can change an item in a list by using indexing and assignment. With a string that change is not allowed.\n",
        "\n",
        "```python\n",
        ">>> myList\n",
        "[1, 3, True, 6.5]\n",
        ">>> myList[0]=2**10\n",
        ">>> myList\n",
        "[1024, 3, True, 6.5]\n",
        ">>>\n",
        ">>> myName\n",
        "'David'\n",
        ">>> myName[0]='X'\n",
        "\n",
        "Traceback (most recent call last):\n",
        "  File \"<pyshell#84>\", line 1, in -toplevel-\n",
        "    myName[0]='X'\n",
        "TypeError: object doesn't support item assignment\n",
        ">>>\n",
        "```\n",
        "\n",
        "Tuples are very similar to lists in that they are heterogeneous sequences of data. The difference is that a tuple is immutable, like a string. A tuple cannot be changed. Tuples are written as comma-delimited values enclosed in parentheses. As sequences, they can use any operation described above. For example,\n",
        "\n",
        "```python\n",
        ">>> myTuple = (2,True,4.96)\n",
        ">>> myTuple\n",
        "(2, True, 4.96)\n",
        ">>> len(myTuple)\n",
        "3\n",
        ">>> myTuple[0]\n",
        "2\n",
        ">>> myTuple * 3\n",
        "(2, True, 4.96, 2, True, 4.96, 2, True, 4.96)\n",
        ">>> myTuple[0:2]\n",
        "(2, True)\n",
        ">>>\n",
        "```\n",
        "\n",
        "However, if you try to change an item in a tuple, you will get an error. Note that the error message provides location and reason for the problem.\n",
        "\n",
        "```python\n",
        ">>> myTuple[1]=False\n",
        "\n",
        "Traceback (most recent call last):\n",
        "  File \"<pyshell#137>\", line 1, in -toplevel-\n",
        "    myTuple[1]=False\n",
        "TypeError: object doesn't support item assignment\n",
        ">>>\n",
        "```\n",
        "A set is an unordered collection of zero or more immutable Python data objects. Sets do not allow duplicates and are written as comma-delimited values enclosed in curly braces. The empty set is represented by set(). Sets are heterogeneous, and the collection can be assigned to a variable as below.\n",
        "\n",
        "```python\n",
        ">>> {3,6,\"cat\",4.5,False}\n",
        "{False, 4.5, 3, 6, 'cat'}\n",
        ">>> mySet = {3,6,\"cat\",4.5,False}\n",
        ">>> mySet\n",
        "{False, 4.5, 3, 6, 'cat'}\n",
        ">>>\n",
        "```\n",
        "\n",
        "\n",
        "Sets support a number of methods that should be familiar to those who have worked with them in a mathematics setting.\n",
        "\n",
        "```python\n",
        ">>> mySet\n",
        "{False, 4.5, 3, 6, 'cat'}\n",
        ">>> yourSet = {99,3,100}\n",
        ">>> mySet.union(yourSet)\n",
        "{False, 4.5, 3, 100, 6, 'cat', 99}\n",
        ">>> mySet | yourSet\n",
        "{False, 4.5, 3, 100, 6, 'cat', 99}\n",
        ">>> mySet.intersection(yourSet)\n",
        "{3}\n",
        ">>> mySet & yourSet\n",
        "{3}\n",
        ">>> mySet.difference(yourSet)\n",
        "{False, 4.5, 6, 'cat'}\n",
        ">>> mySet - yourSet\n",
        "{False, 4.5, 6, 'cat'}\n",
        ">>> {3,100}.issubset(yourSet)\n",
        "True\n",
        ">>> {3,100}<=yourSet\n",
        "True\n",
        ">>> mySet.add(\"house\")\n",
        ">>> mySet\n",
        "{False, 4.5, 3, 6, 'house', 'cat'}\n",
        ">>> mySet.remove(4.5)\n",
        ">>> mySet\n",
        "{False, 3, 6, 'house', 'cat'}\n",
        ">>> mySet.pop()\n",
        "False\n",
        ">>> mySet\n",
        "{3, 6, 'house', 'cat'}\n",
        ">>> mySet.clear()\n",
        ">>> mySet\n",
        "set()\n",
        ">>>\n",
        "```\n",
        "\n"
      ]
    },
    {
      "cell_type": "markdown",
      "metadata": {
        "id": "y5Tztm50L9Kv",
        "colab_type": "text"
      },
      "source": [
        "### Infinite Monkey Theorem\n",
        "\n",
        "Here’s a self check that really covers everything so far. You may have heard of the infinite monkey theorem? The theorem states that a monkey hitting keys at random on a typewriter keyboard for an infinite amount of time will almost surely type a given text, such as the complete works of William Shakespeare. Well, suppose we replace a monkey with a Python function. How long do you think it would take for a Python function to generate just one sentence of Shakespeare? The sentence we’ll shoot for is: “methinks it is like a weasel”\n",
        "\n",
        "You’re not going to want to run this one in the browser, so fire up your favorite Python IDE. The way we’ll simulate this is to write a function that generates a string that is 28 characters long by choosing random letters from the 26 letters in the alphabet plus the space. We’ll write another function that will score each generated string by comparing the randomly generated string to the goal.\n",
        "\n",
        "A third function will repeatedly call generate and score, then if 100% of the letters are correct we are done. If the letters are not correct then we will generate a whole new string.To make it easier to follow your program’s progress this third function should print out the best string generated so far and its score every 1000 tries."
      ]
    },
    {
      "cell_type": "code",
      "metadata": {
        "id": "SnaMuxUB-8rK",
        "colab_type": "code",
        "colab": {}
      },
      "source": [
        "import random\n",
        "\n",
        "monkey_str = \"methinks it is like a weasel\"\n",
        "\n",
        "list_chars = list(range(97, 123)) + [32]\n",
        "\n",
        "def generate():\n",
        "  generated_str = ''\n",
        "  for x in range(0, 28):\n",
        "    rand_num = random.randint(0, 26)\n",
        "    char = chr(list_chars[rand_num])\n",
        "    generated_str+=char\n",
        "  return generated_str\n",
        "\n",
        "def score(generated_str):\n",
        "  # print ('scoring:', generated_str)\n",
        "  if generated_str == monkey_str:\n",
        "    return True\n",
        "  return False\n",
        "\n",
        "def repeat():\n",
        "  generated_str = generate()\n",
        "  while not score(generated_str):\n",
        "    generated_str = generate()\n",
        "  print ('Done', generated_str)\n",
        "\n",
        "repeat()"
      ],
      "execution_count": 0,
      "outputs": []
    },
    {
      "cell_type": "code",
      "metadata": {
        "id": "5RTNarEFoDIn",
        "colab_type": "code",
        "colab": {}
      },
      "source": [
        ""
      ],
      "execution_count": 0,
      "outputs": []
    }
  ]
}